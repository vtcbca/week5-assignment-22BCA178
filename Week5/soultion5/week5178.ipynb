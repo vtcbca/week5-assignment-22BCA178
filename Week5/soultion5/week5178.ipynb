{
 "cells": [
  {
   "cell_type": "code",
   "execution_count": 1,
   "id": "fdfc2e47",
   "metadata": {},
   "outputs": [],
   "source": [
    "import csv"
   ]
  },
  {
   "cell_type": "code",
   "execution_count": 2,
   "id": "8b2bb98e",
   "metadata": {},
   "outputs": [],
   "source": [
    "head=(['sid','sname','city','contact'])"
   ]
  },
  {
   "cell_type": "code",
   "execution_count": 3,
   "id": "6eb15d97",
   "metadata": {},
   "outputs": [],
   "source": [
    "rows=[['1','Zeel','Bardoli','9878657345'],\n",
    "     ['2','Yugant','Buhari','8750981232'],\n",
    "     ['3','Jay','Surat','8860904532'],\n",
    "     ['4','Shiv','Mandvi','90878909432'],\n",
    "     ['5','Neel','Vankaner','8790456512'],\n",
    "     ['6','Avi','Bardoli','9454679309'],\n",
    "     ['7','Yug','Kathor','9834342210'],\n",
    "     ['8','Meet','Baben','9090879065'],\n",
    "     ['9','Abhi','Mahuva','7890654312'],\n",
    "     ['10','Kevin','Delwada','9988776645']]"
   ]
  },
  {
   "cell_type": "code",
   "execution_count": 6,
   "id": "f681bc01",
   "metadata": {},
   "outputs": [],
   "source": [
    "with open(\"student.csv\",\"w\",newline=\"\") as file:\n",
    "        writer=csv.writer(file)\n",
    "        writer.writerow(head)\n",
    "        writer.writerows(rows)\n",
    "       "
   ]
  },
  {
   "cell_type": "code",
   "execution_count": 7,
   "id": "2678e6a8",
   "metadata": {},
   "outputs": [],
   "source": [
    "from csv import reader"
   ]
  },
  {
   "cell_type": "code",
   "execution_count": 8,
   "id": "96650fbb",
   "metadata": {
    "scrolled": true
   },
   "outputs": [
    {
     "name": "stdout",
     "output_type": "stream",
     "text": [
      "['sid', 'sname', 'city', 'contact']\n",
      "['1', 'Zeel', 'Bardoli', '9878657345']\n",
      "['2', 'Yugant', 'Buhari', '8750981232']\n",
      "['3', 'Jay', 'Surat', '8860904532']\n",
      "['4', 'Shiv', 'Mandvi', '90878909432']\n",
      "['5', 'Neel', 'Vankaner', '8790456512']\n",
      "['6', 'Avi', 'Bardoli', '9454679309']\n",
      "['7', 'Yug', 'Kathor', '9834342210']\n",
      "['8', 'Meet', 'Baben', '9090879065']\n",
      "['9', 'Abhi', 'Mahuva', '7890654312']\n",
      "['10', 'Kevin', 'Delwada', '9988776645']\n"
     ]
    }
   ],
   "source": [
    "with open(\"student.csv\",'r',newline=\"\")as file:\n",
    "    read=reader(file)\n",
    "    for rows in read:\n",
    "        print(rows)"
   ]
  }
 ],
 "metadata": {
  "kernelspec": {
   "display_name": "Python 3 (ipykernel)",
   "language": "python",
   "name": "python3"
  },
  "language_info": {
   "codemirror_mode": {
    "name": "ipython",
    "version": 3
   },
   "file_extension": ".py",
   "mimetype": "text/x-python",
   "name": "python",
   "nbconvert_exporter": "python",
   "pygments_lexer": "ipython3",
   "version": "3.9.6"
  }
 },
 "nbformat": 4,
 "nbformat_minor": 5
}
